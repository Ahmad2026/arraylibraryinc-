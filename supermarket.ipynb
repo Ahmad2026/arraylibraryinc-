{
 "cells": [
  {
   "cell_type": "code",
   "execution_count": 1,
   "id": "57d6b586",
   "metadata": {
    "execution": {
     "iopub.execute_input": "2022-03-27T10:49:06.729515Z",
     "iopub.status.busy": "2022-03-27T10:49:06.728849Z",
     "iopub.status.idle": "2022-03-27T10:49:07.851279Z",
     "shell.execute_reply": "2022-03-27T10:49:07.850564Z",
     "shell.execute_reply.started": "2022-03-27T09:43:57.747951Z"
    },
    "papermill": {
     "duration": 1.163758,
     "end_time": "2022-03-27T10:49:07.851462",
     "exception": false,
     "start_time": "2022-03-27T10:49:06.687704",
     "status": "completed"
    },
    "tags": []
   },
   "outputs": [],
   "source": [
    "import pandas as pd\n",
    "import numpy as np\n",
    "import matplotlib.pyplot as plt\n",
    "import seaborn as sns"
   ]
  },
  {
   "cell_type": "code",
   "execution_count": 2,
   "id": "2d3a8b03",
   "metadata": {
    "execution": {
     "iopub.execute_input": "2022-03-27T10:49:07.917911Z",
     "iopub.status.busy": "2022-03-27T10:49:07.917179Z",
     "iopub.status.idle": "2022-03-27T10:49:07.962957Z",
     "shell.execute_reply": "2022-03-27T10:49:07.963486Z",
     "shell.execute_reply.started": "2022-03-27T09:43:58.298359Z"
    },
    "papermill": {
     "duration": 0.080859,
     "end_time": "2022-03-27T10:49:07.963662",
     "exception": false,
     "start_time": "2022-03-27T10:49:07.882803",
     "status": "completed"
    },
    "tags": []
   },
   "outputs": [
    {
     "data": {
      "text/html": [
       "<div>\n",
       "<style scoped>\n",
       "    .dataframe tbody tr th:only-of-type {\n",
       "        vertical-align: middle;\n",
       "    }\n",
       "\n",
       "    .dataframe tbody tr th {\n",
       "        vertical-align: top;\n",
       "    }\n",
       "\n",
       "    .dataframe thead th {\n",
       "        text-align: right;\n",
       "    }\n",
       "</style>\n",
       "<table border=\"1\" class=\"dataframe\">\n",
       "  <thead>\n",
       "    <tr style=\"text-align: right;\">\n",
       "      <th></th>\n",
       "      <th>Invoice ID</th>\n",
       "      <th>Branch</th>\n",
       "      <th>City</th>\n",
       "      <th>Customer type</th>\n",
       "      <th>Gender</th>\n",
       "      <th>Product line</th>\n",
       "      <th>Unit price</th>\n",
       "      <th>Quantity</th>\n",
       "      <th>Tax 5%</th>\n",
       "      <th>Total</th>\n",
       "      <th>Date</th>\n",
       "      <th>Time</th>\n",
       "      <th>Payment</th>\n",
       "      <th>cogs</th>\n",
       "      <th>gross margin percentage</th>\n",
       "      <th>gross income</th>\n",
       "      <th>Rating</th>\n",
       "    </tr>\n",
       "  </thead>\n",
       "  <tbody>\n",
       "    <tr>\n",
       "      <th>0</th>\n",
       "      <td>750-67-8428</td>\n",
       "      <td>A</td>\n",
       "      <td>Yangon</td>\n",
       "      <td>Member</td>\n",
       "      <td>Female</td>\n",
       "      <td>Health and beauty</td>\n",
       "      <td>74.69</td>\n",
       "      <td>7</td>\n",
       "      <td>26.1415</td>\n",
       "      <td>548.9715</td>\n",
       "      <td>1/5/2019</td>\n",
       "      <td>13:08</td>\n",
       "      <td>Ewallet</td>\n",
       "      <td>522.83</td>\n",
       "      <td>4.761905</td>\n",
       "      <td>26.1415</td>\n",
       "      <td>9.1</td>\n",
       "    </tr>\n",
       "    <tr>\n",
       "      <th>1</th>\n",
       "      <td>226-31-3081</td>\n",
       "      <td>C</td>\n",
       "      <td>Naypyitaw</td>\n",
       "      <td>Normal</td>\n",
       "      <td>Female</td>\n",
       "      <td>Electronic accessories</td>\n",
       "      <td>15.28</td>\n",
       "      <td>5</td>\n",
       "      <td>3.8200</td>\n",
       "      <td>80.2200</td>\n",
       "      <td>3/8/2019</td>\n",
       "      <td>10:29</td>\n",
       "      <td>Cash</td>\n",
       "      <td>76.40</td>\n",
       "      <td>4.761905</td>\n",
       "      <td>3.8200</td>\n",
       "      <td>9.6</td>\n",
       "    </tr>\n",
       "    <tr>\n",
       "      <th>2</th>\n",
       "      <td>631-41-3108</td>\n",
       "      <td>A</td>\n",
       "      <td>Yangon</td>\n",
       "      <td>Normal</td>\n",
       "      <td>Male</td>\n",
       "      <td>Home and lifestyle</td>\n",
       "      <td>46.33</td>\n",
       "      <td>7</td>\n",
       "      <td>16.2155</td>\n",
       "      <td>340.5255</td>\n",
       "      <td>3/3/2019</td>\n",
       "      <td>13:23</td>\n",
       "      <td>Credit card</td>\n",
       "      <td>324.31</td>\n",
       "      <td>4.761905</td>\n",
       "      <td>16.2155</td>\n",
       "      <td>7.4</td>\n",
       "    </tr>\n",
       "    <tr>\n",
       "      <th>3</th>\n",
       "      <td>123-19-1176</td>\n",
       "      <td>A</td>\n",
       "      <td>Yangon</td>\n",
       "      <td>Member</td>\n",
       "      <td>Male</td>\n",
       "      <td>Health and beauty</td>\n",
       "      <td>58.22</td>\n",
       "      <td>8</td>\n",
       "      <td>23.2880</td>\n",
       "      <td>489.0480</td>\n",
       "      <td>1/27/2019</td>\n",
       "      <td>20:33</td>\n",
       "      <td>Ewallet</td>\n",
       "      <td>465.76</td>\n",
       "      <td>4.761905</td>\n",
       "      <td>23.2880</td>\n",
       "      <td>8.4</td>\n",
       "    </tr>\n",
       "    <tr>\n",
       "      <th>4</th>\n",
       "      <td>373-73-7910</td>\n",
       "      <td>A</td>\n",
       "      <td>Yangon</td>\n",
       "      <td>Normal</td>\n",
       "      <td>Male</td>\n",
       "      <td>Sports and travel</td>\n",
       "      <td>86.31</td>\n",
       "      <td>7</td>\n",
       "      <td>30.2085</td>\n",
       "      <td>634.3785</td>\n",
       "      <td>2/8/2019</td>\n",
       "      <td>10:37</td>\n",
       "      <td>Ewallet</td>\n",
       "      <td>604.17</td>\n",
       "      <td>4.761905</td>\n",
       "      <td>30.2085</td>\n",
       "      <td>5.3</td>\n",
       "    </tr>\n",
       "  </tbody>\n",
       "</table>\n",
       "</div>"
      ],
      "text/plain": [
       "    Invoice ID Branch       City Customer type  Gender  \\\n",
       "0  750-67-8428      A     Yangon        Member  Female   \n",
       "1  226-31-3081      C  Naypyitaw        Normal  Female   \n",
       "2  631-41-3108      A     Yangon        Normal    Male   \n",
       "3  123-19-1176      A     Yangon        Member    Male   \n",
       "4  373-73-7910      A     Yangon        Normal    Male   \n",
       "\n",
       "             Product line  Unit price  Quantity   Tax 5%     Total       Date  \\\n",
       "0       Health and beauty       74.69         7  26.1415  548.9715   1/5/2019   \n",
       "1  Electronic accessories       15.28         5   3.8200   80.2200   3/8/2019   \n",
       "2      Home and lifestyle       46.33         7  16.2155  340.5255   3/3/2019   \n",
       "3       Health and beauty       58.22         8  23.2880  489.0480  1/27/2019   \n",
       "4       Sports and travel       86.31         7  30.2085  634.3785   2/8/2019   \n",
       "\n",
       "    Time      Payment    cogs  gross margin percentage  gross income  Rating  \n",
       "0  13:08      Ewallet  522.83                 4.761905       26.1415     9.1  \n",
       "1  10:29         Cash   76.40                 4.761905        3.8200     9.6  \n",
       "2  13:23  Credit card  324.31                 4.761905       16.2155     7.4  \n",
       "3  20:33      Ewallet  465.76                 4.761905       23.2880     8.4  \n",
       "4  10:37      Ewallet  604.17                 4.761905       30.2085     5.3  "
      ]
     },
     "execution_count": 2,
     "metadata": {},
     "output_type": "execute_result"
    }
   ],
   "source": [
    "df = pd.read_csv('../input/supermarket-sales/supermarket_sales - Sheet1.csv')\n",
    "df.head()\n"
   ]
  },
  {
   "cell_type": "code",
   "execution_count": 3,
   "id": "bc5c2517",
   "metadata": {
    "execution": {
     "iopub.execute_input": "2022-03-27T10:49:08.031923Z",
     "iopub.status.busy": "2022-03-27T10:49:08.030929Z",
     "iopub.status.idle": "2022-03-27T10:49:08.075256Z",
     "shell.execute_reply": "2022-03-27T10:49:08.074594Z",
     "shell.execute_reply.started": "2022-03-27T09:43:58.343266Z"
    },
    "papermill": {
     "duration": 0.079681,
     "end_time": "2022-03-27T10:49:08.075398",
     "exception": false,
     "start_time": "2022-03-27T10:49:07.995717",
     "status": "completed"
    },
    "tags": []
   },
   "outputs": [
    {
     "data": {
      "text/html": [
       "<div>\n",
       "<style scoped>\n",
       "    .dataframe tbody tr th:only-of-type {\n",
       "        vertical-align: middle;\n",
       "    }\n",
       "\n",
       "    .dataframe tbody tr th {\n",
       "        vertical-align: top;\n",
       "    }\n",
       "\n",
       "    .dataframe thead th {\n",
       "        text-align: right;\n",
       "    }\n",
       "</style>\n",
       "<table border=\"1\" class=\"dataframe\">\n",
       "  <thead>\n",
       "    <tr style=\"text-align: right;\">\n",
       "      <th></th>\n",
       "      <th>Unit price</th>\n",
       "      <th>Quantity</th>\n",
       "      <th>Tax 5%</th>\n",
       "      <th>Total</th>\n",
       "      <th>cogs</th>\n",
       "      <th>gross margin percentage</th>\n",
       "      <th>gross income</th>\n",
       "      <th>Rating</th>\n",
       "    </tr>\n",
       "  </thead>\n",
       "  <tbody>\n",
       "    <tr>\n",
       "      <th>count</th>\n",
       "      <td>1000.000000</td>\n",
       "      <td>1000.000000</td>\n",
       "      <td>1000.000000</td>\n",
       "      <td>1000.000000</td>\n",
       "      <td>1000.00000</td>\n",
       "      <td>1.000000e+03</td>\n",
       "      <td>1000.000000</td>\n",
       "      <td>1000.00000</td>\n",
       "    </tr>\n",
       "    <tr>\n",
       "      <th>mean</th>\n",
       "      <td>55.672130</td>\n",
       "      <td>5.510000</td>\n",
       "      <td>15.379369</td>\n",
       "      <td>322.966749</td>\n",
       "      <td>307.58738</td>\n",
       "      <td>4.761905e+00</td>\n",
       "      <td>15.379369</td>\n",
       "      <td>6.97270</td>\n",
       "    </tr>\n",
       "    <tr>\n",
       "      <th>std</th>\n",
       "      <td>26.494628</td>\n",
       "      <td>2.923431</td>\n",
       "      <td>11.708825</td>\n",
       "      <td>245.885335</td>\n",
       "      <td>234.17651</td>\n",
       "      <td>6.131498e-14</td>\n",
       "      <td>11.708825</td>\n",
       "      <td>1.71858</td>\n",
       "    </tr>\n",
       "    <tr>\n",
       "      <th>min</th>\n",
       "      <td>10.080000</td>\n",
       "      <td>1.000000</td>\n",
       "      <td>0.508500</td>\n",
       "      <td>10.678500</td>\n",
       "      <td>10.17000</td>\n",
       "      <td>4.761905e+00</td>\n",
       "      <td>0.508500</td>\n",
       "      <td>4.00000</td>\n",
       "    </tr>\n",
       "    <tr>\n",
       "      <th>25%</th>\n",
       "      <td>32.875000</td>\n",
       "      <td>3.000000</td>\n",
       "      <td>5.924875</td>\n",
       "      <td>124.422375</td>\n",
       "      <td>118.49750</td>\n",
       "      <td>4.761905e+00</td>\n",
       "      <td>5.924875</td>\n",
       "      <td>5.50000</td>\n",
       "    </tr>\n",
       "    <tr>\n",
       "      <th>50%</th>\n",
       "      <td>55.230000</td>\n",
       "      <td>5.000000</td>\n",
       "      <td>12.088000</td>\n",
       "      <td>253.848000</td>\n",
       "      <td>241.76000</td>\n",
       "      <td>4.761905e+00</td>\n",
       "      <td>12.088000</td>\n",
       "      <td>7.00000</td>\n",
       "    </tr>\n",
       "    <tr>\n",
       "      <th>75%</th>\n",
       "      <td>77.935000</td>\n",
       "      <td>8.000000</td>\n",
       "      <td>22.445250</td>\n",
       "      <td>471.350250</td>\n",
       "      <td>448.90500</td>\n",
       "      <td>4.761905e+00</td>\n",
       "      <td>22.445250</td>\n",
       "      <td>8.50000</td>\n",
       "    </tr>\n",
       "    <tr>\n",
       "      <th>max</th>\n",
       "      <td>99.960000</td>\n",
       "      <td>10.000000</td>\n",
       "      <td>49.650000</td>\n",
       "      <td>1042.650000</td>\n",
       "      <td>993.00000</td>\n",
       "      <td>4.761905e+00</td>\n",
       "      <td>49.650000</td>\n",
       "      <td>10.00000</td>\n",
       "    </tr>\n",
       "  </tbody>\n",
       "</table>\n",
       "</div>"
      ],
      "text/plain": [
       "        Unit price     Quantity       Tax 5%        Total        cogs  \\\n",
       "count  1000.000000  1000.000000  1000.000000  1000.000000  1000.00000   \n",
       "mean     55.672130     5.510000    15.379369   322.966749   307.58738   \n",
       "std      26.494628     2.923431    11.708825   245.885335   234.17651   \n",
       "min      10.080000     1.000000     0.508500    10.678500    10.17000   \n",
       "25%      32.875000     3.000000     5.924875   124.422375   118.49750   \n",
       "50%      55.230000     5.000000    12.088000   253.848000   241.76000   \n",
       "75%      77.935000     8.000000    22.445250   471.350250   448.90500   \n",
       "max      99.960000    10.000000    49.650000  1042.650000   993.00000   \n",
       "\n",
       "       gross margin percentage  gross income      Rating  \n",
       "count             1.000000e+03   1000.000000  1000.00000  \n",
       "mean              4.761905e+00     15.379369     6.97270  \n",
       "std               6.131498e-14     11.708825     1.71858  \n",
       "min               4.761905e+00      0.508500     4.00000  \n",
       "25%               4.761905e+00      5.924875     5.50000  \n",
       "50%               4.761905e+00     12.088000     7.00000  \n",
       "75%               4.761905e+00     22.445250     8.50000  \n",
       "max               4.761905e+00     49.650000    10.00000  "
      ]
     },
     "execution_count": 3,
     "metadata": {},
     "output_type": "execute_result"
    }
   ],
   "source": [
    "df.describe()"
   ]
  },
  {
   "cell_type": "code",
   "execution_count": 4,
   "id": "59b957df",
   "metadata": {
    "execution": {
     "iopub.execute_input": "2022-03-27T10:49:08.145334Z",
     "iopub.status.busy": "2022-03-27T10:49:08.144576Z",
     "iopub.status.idle": "2022-03-27T10:49:08.159388Z",
     "shell.execute_reply": "2022-03-27T10:49:08.159979Z",
     "shell.execute_reply.started": "2022-03-27T09:43:58.386615Z"
    },
    "papermill": {
     "duration": 0.053245,
     "end_time": "2022-03-27T10:49:08.160160",
     "exception": false,
     "start_time": "2022-03-27T10:49:08.106915",
     "status": "completed"
    },
    "tags": []
   },
   "outputs": [
    {
     "name": "stdout",
     "output_type": "stream",
     "text": [
      "<class 'pandas.core.frame.DataFrame'>\n",
      "RangeIndex: 1000 entries, 0 to 999\n",
      "Data columns (total 17 columns):\n",
      " #   Column                   Non-Null Count  Dtype  \n",
      "---  ------                   --------------  -----  \n",
      " 0   Invoice ID               1000 non-null   object \n",
      " 1   Branch                   1000 non-null   object \n",
      " 2   City                     1000 non-null   object \n",
      " 3   Customer type            1000 non-null   object \n",
      " 4   Gender                   1000 non-null   object \n",
      " 5   Product line             1000 non-null   object \n",
      " 6   Unit price               1000 non-null   float64\n",
      " 7   Quantity                 1000 non-null   int64  \n",
      " 8   Tax 5%                   1000 non-null   float64\n",
      " 9   Total                    1000 non-null   float64\n",
      " 10  Date                     1000 non-null   object \n",
      " 11  Time                     1000 non-null   object \n",
      " 12  Payment                  1000 non-null   object \n",
      " 13  cogs                     1000 non-null   float64\n",
      " 14  gross margin percentage  1000 non-null   float64\n",
      " 15  gross income             1000 non-null   float64\n",
      " 16  Rating                   1000 non-null   float64\n",
      "dtypes: float64(7), int64(1), object(9)\n",
      "memory usage: 132.9+ KB\n"
     ]
    }
   ],
   "source": [
    "df.info()"
   ]
  },
  {
   "cell_type": "code",
   "execution_count": 5,
   "id": "cb4cf2fd",
   "metadata": {
    "execution": {
     "iopub.execute_input": "2022-03-27T10:49:08.229288Z",
     "iopub.status.busy": "2022-03-27T10:49:08.228575Z",
     "iopub.status.idle": "2022-03-27T10:49:08.237073Z",
     "shell.execute_reply": "2022-03-27T10:49:08.237564Z",
     "shell.execute_reply.started": "2022-03-27T09:43:58.408592Z"
    },
    "papermill": {
     "duration": 0.043987,
     "end_time": "2022-03-27T10:49:08.237750",
     "exception": false,
     "start_time": "2022-03-27T10:49:08.193763",
     "status": "completed"
    },
    "tags": []
   },
   "outputs": [
    {
     "data": {
      "text/plain": [
       "Invoice ID                 0\n",
       "Branch                     0\n",
       "City                       0\n",
       "Customer type              0\n",
       "Gender                     0\n",
       "Product line               0\n",
       "Unit price                 0\n",
       "Quantity                   0\n",
       "Tax 5%                     0\n",
       "Total                      0\n",
       "Date                       0\n",
       "Time                       0\n",
       "Payment                    0\n",
       "cogs                       0\n",
       "gross margin percentage    0\n",
       "gross income               0\n",
       "Rating                     0\n",
       "dtype: int64"
      ]
     },
     "execution_count": 5,
     "metadata": {},
     "output_type": "execute_result"
    }
   ],
   "source": [
    "df.isnull().sum()"
   ]
  },
  {
   "cell_type": "code",
   "execution_count": 6,
   "id": "2bd6941f",
   "metadata": {
    "execution": {
     "iopub.execute_input": "2022-03-27T10:49:08.305451Z",
     "iopub.status.busy": "2022-03-27T10:49:08.304743Z",
     "iopub.status.idle": "2022-03-27T10:49:08.310446Z",
     "shell.execute_reply": "2022-03-27T10:49:08.309783Z",
     "shell.execute_reply.started": "2022-03-27T09:43:58.423427Z"
    },
    "papermill": {
     "duration": 0.040558,
     "end_time": "2022-03-27T10:49:08.310585",
     "exception": false,
     "start_time": "2022-03-27T10:49:08.270027",
     "status": "completed"
    },
    "tags": []
   },
   "outputs": [],
   "source": [
    "df = df.drop(['Invoice ID','Date','Time'],axis=1)"
   ]
  },
  {
   "cell_type": "code",
   "execution_count": 7,
   "id": "384d884d",
   "metadata": {
    "execution": {
     "iopub.execute_input": "2022-03-27T10:49:08.383245Z",
     "iopub.status.busy": "2022-03-27T10:49:08.382348Z",
     "iopub.status.idle": "2022-03-27T10:49:08.385629Z",
     "shell.execute_reply": "2022-03-27T10:49:08.386127Z",
     "shell.execute_reply.started": "2022-03-27T09:43:58.437859Z"
    },
    "papermill": {
     "duration": 0.043479,
     "end_time": "2022-03-27T10:49:08.386298",
     "exception": false,
     "start_time": "2022-03-27T10:49:08.342819",
     "status": "completed"
    },
    "tags": []
   },
   "outputs": [
    {
     "data": {
      "text/plain": [
       "array([4.76190476])"
      ]
     },
     "execution_count": 7,
     "metadata": {},
     "output_type": "execute_result"
    }
   ],
   "source": [
    "df['gross margin percentage'].unique()"
   ]
  },
  {
   "cell_type": "code",
   "execution_count": 8,
   "id": "bb4b7f6f",
   "metadata": {
    "execution": {
     "iopub.execute_input": "2022-03-27T10:49:08.460074Z",
     "iopub.status.busy": "2022-03-27T10:49:08.459263Z",
     "iopub.status.idle": "2022-03-27T10:49:08.461842Z",
     "shell.execute_reply": "2022-03-27T10:49:08.462435Z",
     "shell.execute_reply.started": "2022-03-27T09:43:58.452348Z"
    },
    "papermill": {
     "duration": 0.04163,
     "end_time": "2022-03-27T10:49:08.462613",
     "exception": false,
     "start_time": "2022-03-27T10:49:08.420983",
     "status": "completed"
    },
    "tags": []
   },
   "outputs": [],
   "source": [
    "df=df.drop(['gross margin percentage'],axis=1)"
   ]
  },
  {
   "cell_type": "code",
   "execution_count": 9,
   "id": "7915da21",
   "metadata": {
    "execution": {
     "iopub.execute_input": "2022-03-27T10:49:08.532831Z",
     "iopub.status.busy": "2022-03-27T10:49:08.531775Z",
     "iopub.status.idle": "2022-03-27T10:49:08.550949Z",
     "shell.execute_reply": "2022-03-27T10:49:08.551433Z",
     "shell.execute_reply.started": "2022-03-27T09:43:58.466096Z"
    },
    "papermill": {
     "duration": 0.055702,
     "end_time": "2022-03-27T10:49:08.551635",
     "exception": false,
     "start_time": "2022-03-27T10:49:08.495933",
     "status": "completed"
    },
    "tags": []
   },
   "outputs": [
    {
     "data": {
      "text/html": [
       "<div>\n",
       "<style scoped>\n",
       "    .dataframe tbody tr th:only-of-type {\n",
       "        vertical-align: middle;\n",
       "    }\n",
       "\n",
       "    .dataframe tbody tr th {\n",
       "        vertical-align: top;\n",
       "    }\n",
       "\n",
       "    .dataframe thead th {\n",
       "        text-align: right;\n",
       "    }\n",
       "</style>\n",
       "<table border=\"1\" class=\"dataframe\">\n",
       "  <thead>\n",
       "    <tr style=\"text-align: right;\">\n",
       "      <th></th>\n",
       "      <th>Branch</th>\n",
       "      <th>City</th>\n",
       "      <th>Customer type</th>\n",
       "      <th>Gender</th>\n",
       "      <th>Product line</th>\n",
       "      <th>Unit price</th>\n",
       "      <th>Quantity</th>\n",
       "      <th>Tax 5%</th>\n",
       "      <th>Total</th>\n",
       "      <th>Payment</th>\n",
       "      <th>cogs</th>\n",
       "      <th>gross income</th>\n",
       "      <th>Rating</th>\n",
       "    </tr>\n",
       "  </thead>\n",
       "  <tbody>\n",
       "    <tr>\n",
       "      <th>0</th>\n",
       "      <td>A</td>\n",
       "      <td>Yangon</td>\n",
       "      <td>Member</td>\n",
       "      <td>Female</td>\n",
       "      <td>Health and beauty</td>\n",
       "      <td>74.69</td>\n",
       "      <td>7</td>\n",
       "      <td>26.1415</td>\n",
       "      <td>548.9715</td>\n",
       "      <td>Ewallet</td>\n",
       "      <td>522.83</td>\n",
       "      <td>26.1415</td>\n",
       "      <td>9.1</td>\n",
       "    </tr>\n",
       "    <tr>\n",
       "      <th>1</th>\n",
       "      <td>C</td>\n",
       "      <td>Naypyitaw</td>\n",
       "      <td>Normal</td>\n",
       "      <td>Female</td>\n",
       "      <td>Electronic accessories</td>\n",
       "      <td>15.28</td>\n",
       "      <td>5</td>\n",
       "      <td>3.8200</td>\n",
       "      <td>80.2200</td>\n",
       "      <td>Cash</td>\n",
       "      <td>76.40</td>\n",
       "      <td>3.8200</td>\n",
       "      <td>9.6</td>\n",
       "    </tr>\n",
       "    <tr>\n",
       "      <th>2</th>\n",
       "      <td>A</td>\n",
       "      <td>Yangon</td>\n",
       "      <td>Normal</td>\n",
       "      <td>Male</td>\n",
       "      <td>Home and lifestyle</td>\n",
       "      <td>46.33</td>\n",
       "      <td>7</td>\n",
       "      <td>16.2155</td>\n",
       "      <td>340.5255</td>\n",
       "      <td>Credit card</td>\n",
       "      <td>324.31</td>\n",
       "      <td>16.2155</td>\n",
       "      <td>7.4</td>\n",
       "    </tr>\n",
       "    <tr>\n",
       "      <th>3</th>\n",
       "      <td>A</td>\n",
       "      <td>Yangon</td>\n",
       "      <td>Member</td>\n",
       "      <td>Male</td>\n",
       "      <td>Health and beauty</td>\n",
       "      <td>58.22</td>\n",
       "      <td>8</td>\n",
       "      <td>23.2880</td>\n",
       "      <td>489.0480</td>\n",
       "      <td>Ewallet</td>\n",
       "      <td>465.76</td>\n",
       "      <td>23.2880</td>\n",
       "      <td>8.4</td>\n",
       "    </tr>\n",
       "    <tr>\n",
       "      <th>4</th>\n",
       "      <td>A</td>\n",
       "      <td>Yangon</td>\n",
       "      <td>Normal</td>\n",
       "      <td>Male</td>\n",
       "      <td>Sports and travel</td>\n",
       "      <td>86.31</td>\n",
       "      <td>7</td>\n",
       "      <td>30.2085</td>\n",
       "      <td>634.3785</td>\n",
       "      <td>Ewallet</td>\n",
       "      <td>604.17</td>\n",
       "      <td>30.2085</td>\n",
       "      <td>5.3</td>\n",
       "    </tr>\n",
       "  </tbody>\n",
       "</table>\n",
       "</div>"
      ],
      "text/plain": [
       "  Branch       City Customer type  Gender            Product line  Unit price  \\\n",
       "0      A     Yangon        Member  Female       Health and beauty       74.69   \n",
       "1      C  Naypyitaw        Normal  Female  Electronic accessories       15.28   \n",
       "2      A     Yangon        Normal    Male      Home and lifestyle       46.33   \n",
       "3      A     Yangon        Member    Male       Health and beauty       58.22   \n",
       "4      A     Yangon        Normal    Male       Sports and travel       86.31   \n",
       "\n",
       "   Quantity   Tax 5%     Total      Payment    cogs  gross income  Rating  \n",
       "0         7  26.1415  548.9715      Ewallet  522.83       26.1415     9.1  \n",
       "1         5   3.8200   80.2200         Cash   76.40        3.8200     9.6  \n",
       "2         7  16.2155  340.5255  Credit card  324.31       16.2155     7.4  \n",
       "3         8  23.2880  489.0480      Ewallet  465.76       23.2880     8.4  \n",
       "4         7  30.2085  634.3785      Ewallet  604.17       30.2085     5.3  "
      ]
     },
     "execution_count": 9,
     "metadata": {},
     "output_type": "execute_result"
    }
   ],
   "source": [
    "df.head()"
   ]
  },
  {
   "cell_type": "markdown",
   "id": "84f4be90",
   "metadata": {
    "papermill": {
     "duration": 0.033277,
     "end_time": "2022-03-27T10:49:08.618895",
     "exception": false,
     "start_time": "2022-03-27T10:49:08.585618",
     "status": "completed"
    },
    "tags": []
   },
   "source": []
  },
  {
   "cell_type": "markdown",
   "id": "d6f0619a",
   "metadata": {
    "papermill": {
     "duration": 0.033466,
     "end_time": "2022-03-27T10:49:08.685589",
     "exception": false,
     "start_time": "2022-03-27T10:49:08.652123",
     "status": "completed"
    },
    "tags": []
   },
   "source": [
    "Data Visualization"
   ]
  },
  {
   "cell_type": "code",
   "execution_count": 10,
   "id": "e46d9634",
   "metadata": {
    "execution": {
     "iopub.execute_input": "2022-03-27T10:49:08.759994Z",
     "iopub.status.busy": "2022-03-27T10:49:08.758949Z",
     "iopub.status.idle": "2022-03-27T10:49:08.766128Z",
     "shell.execute_reply": "2022-03-27T10:49:08.765604Z",
     "shell.execute_reply.started": "2022-03-27T09:43:58.495689Z"
    },
    "papermill": {
     "duration": 0.047542,
     "end_time": "2022-03-27T10:49:08.766286",
     "exception": false,
     "start_time": "2022-03-27T10:49:08.718744",
     "status": "completed"
    },
    "tags": []
   },
   "outputs": [
    {
     "name": "stdout",
     "output_type": "stream",
     "text": [
      "(1000, 13)\n"
     ]
    },
    {
     "data": {
      "text/plain": [
       "Female    501\n",
       "Male      499\n",
       "Name: Gender, dtype: int64"
      ]
     },
     "execution_count": 10,
     "metadata": {},
     "output_type": "execute_result"
    }
   ],
   "source": [
    "print(df.shape)\n",
    "df['Gender'].value_counts()"
   ]
  },
  {
   "cell_type": "code",
   "execution_count": 11,
   "id": "45c13440",
   "metadata": {
    "execution": {
     "iopub.execute_input": "2022-03-27T10:49:08.841921Z",
     "iopub.status.busy": "2022-03-27T10:49:08.841075Z",
     "iopub.status.idle": "2022-03-27T10:49:09.049888Z",
     "shell.execute_reply": "2022-03-27T10:49:09.050399Z",
     "shell.execute_reply.started": "2022-03-27T09:43:58.507568Z"
    },
    "papermill": {
     "duration": 0.250099,
     "end_time": "2022-03-27T10:49:09.050574",
     "exception": false,
     "start_time": "2022-03-27T10:49:08.800475",
     "status": "completed"
    },
    "tags": []
   },
   "outputs": [
    {
     "data": {
      "text/plain": [
       "<AxesSubplot:xlabel='Gender', ylabel='count'>"
      ]
     },
     "execution_count": 11,
     "metadata": {},
     "output_type": "execute_result"
    },
    {
     "data": {
      "image/png": "[encoded data removed]",
      "text/plain": [
       "<Figure size 432x288 with 1 Axes>"
      ]
     },
     "metadata": {
      "needs_background": "light"
     },
     "output_type": "display_data"
    }
   ],
   "source": [
    "sns.countplot(x='Gender',data=df)"
   ]
  },
  {
   "cell_type": "code",
   "execution_count": 12,
   "id": "4cb2b704",
   "metadata": {
    "execution": {
     "iopub.execute_input": "2022-03-27T10:49:09.129648Z",
     "iopub.status.busy": "2022-03-27T10:49:09.128621Z",
     "iopub.status.idle": "2022-03-27T10:49:09.137388Z",
     "shell.execute_reply": "2022-03-27T10:49:09.136699Z",
     "shell.execute_reply.started": "2022-03-27T09:43:58.708640Z"
    },
    "papermill": {
     "duration": 0.050942,
     "end_time": "2022-03-27T10:49:09.137532",
     "exception": false,
     "start_time": "2022-03-27T10:49:09.086590",
     "status": "completed"
    },
    "tags": []
   },
   "outputs": [
    {
     "data": {
      "text/html": [
       "<div>\n",
       "<style scoped>\n",
       "    .dataframe tbody tr th:only-of-type {\n",
       "        vertical-align: middle;\n",
       "    }\n",
       "\n",
       "    .dataframe tbody tr th {\n",
       "        vertical-align: top;\n",
       "    }\n",
       "\n",
       "    .dataframe thead th {\n",
       "        text-align: right;\n",
       "    }\n",
       "</style>\n",
       "<table border=\"1\" class=\"dataframe\">\n",
       "  <thead>\n",
       "    <tr style=\"text-align: right;\">\n",
       "      <th></th>\n",
       "      <th>Female</th>\n",
       "      <th>Male</th>\n",
       "    </tr>\n",
       "  </thead>\n",
       "  <tbody>\n",
       "    <tr>\n",
       "      <th>0</th>\n",
       "      <td>1</td>\n",
       "      <td>0</td>\n",
       "    </tr>\n",
       "    <tr>\n",
       "      <th>1</th>\n",
       "      <td>1</td>\n",
       "      <td>0</td>\n",
       "    </tr>\n",
       "    <tr>\n",
       "      <th>2</th>\n",
       "      <td>0</td>\n",
       "      <td>1</td>\n",
       "    </tr>\n",
       "    <tr>\n",
       "      <th>3</th>\n",
       "      <td>0</td>\n",
       "      <td>1</td>\n",
       "    </tr>\n",
       "    <tr>\n",
       "      <th>4</th>\n",
       "      <td>0</td>\n",
       "      <td>1</td>\n",
       "    </tr>\n",
       "  </tbody>\n",
       "</table>\n",
       "</div>"
      ],
      "text/plain": [
       "   Female  Male\n",
       "0       1     0\n",
       "1       1     0\n",
       "2       0     1\n",
       "3       0     1\n",
       "4       0     1"
      ]
     },
     "execution_count": 12,
     "metadata": {},
     "output_type": "execute_result"
    }
   ],
   "source": [
    "gender_dummies = pd.get_dummies(df['Gender'])\n",
    "gender_dummies.head()"
   ]
  },
  {
   "cell_type": "code",
   "execution_count": 13,
   "id": "7479ad9b",
   "metadata": {
    "execution": {
     "iopub.execute_input": "2022-03-27T10:49:09.219740Z",
     "iopub.status.busy": "2022-03-27T10:49:09.217216Z",
     "iopub.status.idle": "2022-03-27T10:49:09.236975Z",
     "shell.execute_reply": "2022-03-27T10:49:09.237500Z",
     "shell.execute_reply.started": "2022-03-27T09:43:58.726636Z"
    },
    "papermill": {
     "duration": 0.063264,
     "end_time": "2022-03-27T10:49:09.237673",
     "exception": false,
     "start_time": "2022-03-27T10:49:09.174409",
     "status": "completed"
    },
    "tags": []
   },
   "outputs": [
    {
     "data": {
      "text/html": [
       "<div>\n",
       "<style scoped>\n",
       "    .dataframe tbody tr th:only-of-type {\n",
       "        vertical-align: middle;\n",
       "    }\n",
       "\n",
       "    .dataframe tbody tr th {\n",
       "        vertical-align: top;\n",
       "    }\n",
       "\n",
       "    .dataframe thead th {\n",
       "        text-align: right;\n",
       "    }\n",
       "</style>\n",
       "<table border=\"1\" class=\"dataframe\">\n",
       "  <thead>\n",
       "    <tr style=\"text-align: right;\">\n",
       "      <th></th>\n",
       "      <th>Branch</th>\n",
       "      <th>City</th>\n",
       "      <th>Customer type</th>\n",
       "      <th>Gender</th>\n",
       "      <th>Product line</th>\n",
       "      <th>Unit price</th>\n",
       "      <th>Quantity</th>\n",
       "      <th>Tax 5%</th>\n",
       "      <th>Total</th>\n",
       "      <th>Payment</th>\n",
       "      <th>cogs</th>\n",
       "      <th>gross income</th>\n",
       "      <th>Rating</th>\n",
       "      <th>Female</th>\n",
       "      <th>Male</th>\n",
       "    </tr>\n",
       "  </thead>\n",
       "  <tbody>\n",
       "    <tr>\n",
       "      <th>0</th>\n",
       "      <td>A</td>\n",
       "      <td>Yangon</td>\n",
       "      <td>Member</td>\n",
       "      <td>Female</td>\n",
       "      <td>Health and beauty</td>\n",
       "      <td>74.69</td>\n",
       "      <td>7</td>\n",
       "      <td>26.1415</td>\n",
       "      <td>548.9715</td>\n",
       "      <td>Ewallet</td>\n",
       "      <td>522.83</td>\n",
       "      <td>26.1415</td>\n",
       "      <td>9.1</td>\n",
       "      <td>1</td>\n",
       "      <td>0</td>\n",
       "    </tr>\n",
       "    <tr>\n",
       "      <th>1</th>\n",
       "      <td>C</td>\n",
       "      <td>Naypyitaw</td>\n",
       "      <td>Normal</td>\n",
       "      <td>Female</td>\n",
       "      <td>Electronic accessories</td>\n",
       "      <td>15.28</td>\n",
       "      <td>5</td>\n",
       "      <td>3.8200</td>\n",
       "      <td>80.2200</td>\n",
       "      <td>Cash</td>\n",
       "      <td>76.40</td>\n",
       "      <td>3.8200</td>\n",
       "      <td>9.6</td>\n",
       "      <td>1</td>\n",
       "      <td>0</td>\n",
       "    </tr>\n",
       "    <tr>\n",
       "      <th>2</th>\n",
       "      <td>A</td>\n",
       "      <td>Yangon</td>\n",
       "      <td>Normal</td>\n",
       "      <td>Male</td>\n",
       "      <td>Home and lifestyle</td>\n",
       "      <td>46.33</td>\n",
       "      <td>7</td>\n",
       "      <td>16.2155</td>\n",
       "      <td>340.5255</td>\n",
       "      <td>Credit card</td>\n",
       "      <td>324.31</td>\n",
       "      <td>16.2155</td>\n",
       "      <td>7.4</td>\n",
       "      <td>0</td>\n",
       "      <td>1</td>\n",
       "    </tr>\n",
       "    <tr>\n",
       "      <th>3</th>\n",
       "      <td>A</td>\n",
       "      <td>Yangon</td>\n",
       "      <td>Member</td>\n",
       "      <td>Male</td>\n",
       "      <td>Health and beauty</td>\n",
       "      <td>58.22</td>\n",
       "      <td>8</td>\n",
       "      <td>23.2880</td>\n",
       "      <td>489.0480</td>\n",
       "      <td>Ewallet</td>\n",
       "      <td>465.76</td>\n",
       "      <td>23.2880</td>\n",
       "      <td>8.4</td>\n",
       "      <td>0</td>\n",
       "      <td>1</td>\n",
       "    </tr>\n",
       "    <tr>\n",
       "      <th>4</th>\n",
       "      <td>A</td>\n",
       "      <td>Yangon</td>\n",
       "      <td>Normal</td>\n",
       "      <td>Male</td>\n",
       "      <td>Sports and travel</td>\n",
       "      <td>86.31</td>\n",
       "      <td>7</td>\n",
       "      <td>30.2085</td>\n",
       "      <td>634.3785</td>\n",
       "      <td>Ewallet</td>\n",
       "      <td>604.17</td>\n",
       "      <td>30.2085</td>\n",
       "      <td>5.3</td>\n",
       "      <td>0</td>\n",
       "      <td>1</td>\n",
       "    </tr>\n",
       "  </tbody>\n",
       "</table>\n",
       "</div>"
      ],
      "text/plain": [
       "  Branch       City Customer type  Gender            Product line  Unit price  \\\n",
       "0      A     Yangon        Member  Female       Health and beauty       74.69   \n",
       "1      C  Naypyitaw        Normal  Female  Electronic accessories       15.28   \n",
       "2      A     Yangon        Normal    Male      Home and lifestyle       46.33   \n",
       "3      A     Yangon        Member    Male       Health and beauty       58.22   \n",
       "4      A     Yangon        Normal    Male       Sports and travel       86.31   \n",
       "\n",
       "   Quantity   Tax 5%     Total      Payment    cogs  gross income  Rating  \\\n",
       "0         7  26.1415  548.9715      Ewallet  522.83       26.1415     9.1   \n",
       "1         5   3.8200   80.2200         Cash   76.40        3.8200     9.6   \n",
       "2         7  16.2155  340.5255  Credit card  324.31       16.2155     7.4   \n",
       "3         8  23.2880  489.0480      Ewallet  465.76       23.2880     8.4   \n",
       "4         7  30.2085  634.3785      Ewallet  604.17       30.2085     5.3   \n",
       "\n",
       "   Female  Male  \n",
       "0       1     0  \n",
       "1       1     0  \n",
       "2       0     1  \n",
       "3       0     1  \n",
       "4       0     1  "
      ]
     },
     "execution_count": 13,
     "metadata": {},
     "output_type": "execute_result"
    }
   ],
   "source": [
    "df = pd.concat([df,gender_dummies],axis=1)\n",
    "df.head()"
   ]
  },
  {
   "cell_type": "code",
   "execution_count": 14,
   "id": "4c29d359",
   "metadata": {
    "execution": {
     "iopub.execute_input": "2022-03-27T10:49:09.315509Z",
     "iopub.status.busy": "2022-03-27T10:49:09.314805Z",
     "iopub.status.idle": "2022-03-27T10:49:09.798636Z",
     "shell.execute_reply": "2022-03-27T10:49:09.799124Z",
     "shell.execute_reply.started": "2022-03-27T09:43:58.754845Z"
    },
    "papermill": {
     "duration": 0.52416,
     "end_time": "2022-03-27T10:49:09.799309",
     "exception": false,
     "start_time": "2022-03-27T10:49:09.275149",
     "status": "completed"
    },
    "tags": []
   },
   "outputs": [
    {
     "data": {
      "text/plain": [
       "<AxesSubplot:xlabel='Product line', ylabel='Female'>"
      ]
     },
     "execution_count": 14,
     "metadata": {},
     "output_type": "execute_result"
    },
    {
     "data": {
      "image/png": "[encoded data removed]",
      "text/plain": [
       "<Figure size 1440x864 with 1 Axes>"
      ]
     },
     "metadata": {
      "needs_background": "light"
     },
     "output_type": "display_data"
    }
   ],
   "source": [
    "plt.figure(figsize=(20,12))\n",
    "sns.barplot(x='Product line',y='Female',data=df)"
   ]
  },
  {
   "cell_type": "code",
   "execution_count": 15,
   "id": "f3c8e1c6",
   "metadata": {
    "execution": {
     "iopub.execute_input": "2022-03-27T10:49:09.879943Z",
     "iopub.status.busy": "2022-03-27T10:49:09.878808Z",
     "iopub.status.idle": "2022-03-27T10:49:10.372610Z",
     "shell.execute_reply": "2022-03-27T10:49:10.373147Z",
     "shell.execute_reply.started": "2022-03-27T09:43:59.280873Z"
    },
    "papermill": {
     "duration": 0.535588,
     "end_time": "2022-03-27T10:49:10.373329",
     "exception": false,
     "start_time": "2022-03-27T10:49:09.837741",
     "status": "completed"
    },
    "tags": []
   },
   "outputs": [
    {
     "data": {
      "text/plain": [
       "<AxesSubplot:xlabel='Product line', ylabel='Male'>"
      ]
     },
     "execution_count": 15,
     "metadata": {},
     "output_type": "execute_result"
    },
    {
     "data": {
      "image/png": "[encoded data removed]",
      "text/plain": [
       "<Figure size 1440x864 with 1 Axes>"
      ]
     },
     "metadata": {
      "needs_background": "light"
     },
     "output_type": "display_data"
    }
   ],
   "source": [
    "plt.figure(figsize=(20,12))\n",
    "sns.barplot(x='Product line',y='Male',data=df)"
   ]
  },
  {
   "cell_type": "markdown",
   "id": "24782c99",
   "metadata": {
    "papermill": {
     "duration": 0.039691,
     "end_time": "2022-03-27T10:49:10.451989",
     "exception": false,
     "start_time": "2022-03-27T10:49:10.412298",
     "status": "completed"
    },
    "tags": []
   },
   "source": [
    "**Plotting Customers per city**"
   ]
  },
  {
   "cell_type": "code",
   "execution_count": 16,
   "id": "baf0e19e",
   "metadata": {
    "execution": {
     "iopub.execute_input": "2022-03-27T10:49:10.535564Z",
     "iopub.status.busy": "2022-03-27T10:49:10.534590Z",
     "iopub.status.idle": "2022-03-27T10:49:10.540122Z",
     "shell.execute_reply": "2022-03-27T10:49:10.540604Z",
     "shell.execute_reply.started": "2022-03-27T09:43:59.793738Z"
    },
    "papermill": {
     "duration": 0.049703,
     "end_time": "2022-03-27T10:49:10.540788",
     "exception": false,
     "start_time": "2022-03-27T10:49:10.491085",
     "status": "completed"
    },
    "tags": []
   },
   "outputs": [],
   "source": [
    "\n",
    "place_df = pd.DataFrame(df['City'].value_counts())\n"
   ]
  },
  {
   "cell_type": "code",
   "execution_count": 17,
   "id": "2c79ff58",
   "metadata": {
    "execution": {
     "iopub.execute_input": "2022-03-27T10:49:10.623193Z",
     "iopub.status.busy": "2022-03-27T10:49:10.622179Z",
     "iopub.status.idle": "2022-03-27T10:49:10.824754Z",
     "shell.execute_reply": "2022-03-27T10:49:10.825317Z",
     "shell.execute_reply.started": "2022-03-27T09:43:59.802835Z"
    },
    "papermill": {
     "duration": 0.245432,
     "end_time": "2022-03-27T10:49:10.825505",
     "exception": false,
     "start_time": "2022-03-27T10:49:10.580073",
     "status": "completed"
    },
    "tags": []
   },
   "outputs": [
    {
     "data": {
      "text/plain": [
       "<AxesSubplot:ylabel='City'>"
      ]
     },
     "execution_count": 17,
     "metadata": {},
     "output_type": "execute_result"
    },
    {
     "data": {
      "image/png": "[encoded data removed]",
      "text/plain": [
       "<Figure size 864x576 with 1 Axes>"
      ]
     },
     "metadata": {
      "needs_background": "light"
     },
     "output_type": "display_data"
    }
   ],
   "source": [
    "plt.figure(figsize=(12,8))\n",
    "sns.barplot(x=place_df.index,y=place_df['City'],palette='hot')"
   ]
  },
  {
   "cell_type": "code",
   "execution_count": 18,
   "id": "a12489dd",
   "metadata": {
    "execution": {
     "iopub.execute_input": "2022-03-27T10:49:10.913126Z",
     "iopub.status.busy": "2022-03-27T10:49:10.912047Z",
     "iopub.status.idle": "2022-03-27T10:49:10.913956Z",
     "shell.execute_reply": "2022-03-27T10:49:10.914486Z",
     "shell.execute_reply.started": "2022-03-27T09:46:58.091665Z"
    },
    "papermill": {
     "duration": 0.049019,
     "end_time": "2022-03-27T10:49:10.914656",
     "exception": false,
     "start_time": "2022-03-27T10:49:10.865637",
     "status": "completed"
    },
    "tags": []
   },
   "outputs": [],
   "source": [
    "payment_df = pd.DataFrame(df['Payment'].value_counts())"
   ]
  },
  {
   "cell_type": "code",
   "execution_count": 19,
   "id": "dd4535d8",
   "metadata": {
    "execution": {
     "iopub.execute_input": "2022-03-27T10:49:11.002329Z",
     "iopub.status.busy": "2022-03-27T10:49:11.001288Z",
     "iopub.status.idle": "2022-03-27T10:49:11.203783Z",
     "shell.execute_reply": "2022-03-27T10:49:11.203184Z",
     "shell.execute_reply.started": "2022-03-27T09:47:23.241656Z"
    },
    "papermill": {
     "duration": 0.248166,
     "end_time": "2022-03-27T10:49:11.203942",
     "exception": false,
     "start_time": "2022-03-27T10:49:10.955776",
     "status": "completed"
    },
    "tags": []
   },
   "outputs": [
    {
     "data": {
      "text/plain": [
       "<AxesSubplot:ylabel='Payment'>"
      ]
     },
     "execution_count": 19,
     "metadata": {},
     "output_type": "execute_result"
    },
    {
     "data": {
      "image/png": "[encoded data removed]",
      "text/plain": [
       "<Figure size 864x576 with 1 Axes>"
      ]
     },
     "metadata": {
      "needs_background": "light"
     },
     "output_type": "display_data"
    }
   ],
   "source": [
    "plt.figure(figsize=(12,8))\n",
    "sns.barplot(x=payment_df.index,y=payment_df['Payment'])\n"
   ]
  },
  {
   "cell_type": "markdown",
   "id": "266995d6",
   "metadata": {
    "papermill": {
     "duration": 0.041066,
     "end_time": "2022-03-27T10:49:11.287583",
     "exception": false,
     "start_time": "2022-03-27T10:49:11.246517",
     "status": "completed"
    },
    "tags": []
   },
   "source": [
    "**Gross Income for each Products line**"
   ]
  },
  {
   "cell_type": "code",
   "execution_count": 20,
   "id": "efccd3c5",
   "metadata": {
    "execution": {
     "iopub.execute_input": "2022-03-27T10:49:11.375644Z",
     "iopub.status.busy": "2022-03-27T10:49:11.374648Z",
     "iopub.status.idle": "2022-03-27T10:49:11.867801Z",
     "shell.execute_reply": "2022-03-27T10:49:11.868287Z",
     "shell.execute_reply.started": "2022-03-27T09:51:06.807937Z"
    },
    "papermill": {
     "duration": 0.539617,
     "end_time": "2022-03-27T10:49:11.868463",
     "exception": false,
     "start_time": "2022-03-27T10:49:11.328846",
     "status": "completed"
    },
    "tags": []
   },
   "outputs": [
    {
     "data": {
      "text/plain": [
       "<AxesSubplot:xlabel='Product line', ylabel='gross income'>"
      ]
     },
     "execution_count": 20,
     "metadata": {},
     "output_type": "execute_result"
    },
    {
     "data": {
      "image/png": "[encoded data removed]",
      "text/plain": [
       "<Figure size 1440x1008 with 1 Axes>"
      ]
     },
     "metadata": {
      "needs_background": "light"
     },
     "output_type": "display_data"
    }
   ],
   "source": [
    "plt.figure(figsize=(20,14))\n",
    "sns.barplot(x=df['Product line'],y=df['gross income'])"
   ]
  },
  {
   "cell_type": "markdown",
   "id": "b1362401",
   "metadata": {
    "papermill": {
     "duration": 0.044935,
     "end_time": "2022-03-27T10:49:11.956188",
     "exception": false,
     "start_time": "2022-03-27T10:49:11.911253",
     "status": "completed"
    },
    "tags": []
   },
   "source": [
    "****Getting Rating Plot for each product line"
   ]
  },
  {
   "cell_type": "code",
   "execution_count": 21,
   "id": "7626c9c4",
   "metadata": {
    "execution": {
     "iopub.execute_input": "2022-03-27T10:49:12.062102Z",
     "iopub.status.busy": "2022-03-27T10:49:12.061411Z",
     "iopub.status.idle": "2022-03-27T10:49:12.064161Z",
     "shell.execute_reply": "2022-03-27T10:49:12.064645Z",
     "shell.execute_reply.started": "2022-03-27T09:53:33.163750Z"
    },
    "papermill": {
     "duration": 0.065664,
     "end_time": "2022-03-27T10:49:12.064810",
     "exception": false,
     "start_time": "2022-03-27T10:49:11.999146",
     "status": "completed"
    },
    "tags": []
   },
   "outputs": [
    {
     "data": {
      "text/html": [
       "<div>\n",
       "<style scoped>\n",
       "    .dataframe tbody tr th:only-of-type {\n",
       "        vertical-align: middle;\n",
       "    }\n",
       "\n",
       "    .dataframe tbody tr th {\n",
       "        vertical-align: top;\n",
       "    }\n",
       "\n",
       "    .dataframe thead th {\n",
       "        text-align: right;\n",
       "    }\n",
       "</style>\n",
       "<table border=\"1\" class=\"dataframe\">\n",
       "  <thead>\n",
       "    <tr style=\"text-align: right;\">\n",
       "      <th></th>\n",
       "      <th>Branch</th>\n",
       "      <th>City</th>\n",
       "      <th>Customer type</th>\n",
       "      <th>Gender</th>\n",
       "      <th>Product line</th>\n",
       "      <th>Unit price</th>\n",
       "      <th>Quantity</th>\n",
       "      <th>Tax 5%</th>\n",
       "      <th>Total</th>\n",
       "      <th>Payment</th>\n",
       "      <th>cogs</th>\n",
       "      <th>gross income</th>\n",
       "      <th>Rating</th>\n",
       "      <th>Female</th>\n",
       "      <th>Male</th>\n",
       "    </tr>\n",
       "  </thead>\n",
       "  <tbody>\n",
       "    <tr>\n",
       "      <th>0</th>\n",
       "      <td>A</td>\n",
       "      <td>Yangon</td>\n",
       "      <td>Member</td>\n",
       "      <td>Female</td>\n",
       "      <td>Health and beauty</td>\n",
       "      <td>74.69</td>\n",
       "      <td>7</td>\n",
       "      <td>26.1415</td>\n",
       "      <td>548.9715</td>\n",
       "      <td>Ewallet</td>\n",
       "      <td>522.83</td>\n",
       "      <td>26.1415</td>\n",
       "      <td>9.1</td>\n",
       "      <td>1</td>\n",
       "      <td>0</td>\n",
       "    </tr>\n",
       "    <tr>\n",
       "      <th>1</th>\n",
       "      <td>C</td>\n",
       "      <td>Naypyitaw</td>\n",
       "      <td>Normal</td>\n",
       "      <td>Female</td>\n",
       "      <td>Electronic accessories</td>\n",
       "      <td>15.28</td>\n",
       "      <td>5</td>\n",
       "      <td>3.8200</td>\n",
       "      <td>80.2200</td>\n",
       "      <td>Cash</td>\n",
       "      <td>76.40</td>\n",
       "      <td>3.8200</td>\n",
       "      <td>9.6</td>\n",
       "      <td>1</td>\n",
       "      <td>0</td>\n",
       "    </tr>\n",
       "    <tr>\n",
       "      <th>2</th>\n",
       "      <td>A</td>\n",
       "      <td>Yangon</td>\n",
       "      <td>Normal</td>\n",
       "      <td>Male</td>\n",
       "      <td>Home and lifestyle</td>\n",
       "      <td>46.33</td>\n",
       "      <td>7</td>\n",
       "      <td>16.2155</td>\n",
       "      <td>340.5255</td>\n",
       "      <td>Credit card</td>\n",
       "      <td>324.31</td>\n",
       "      <td>16.2155</td>\n",
       "      <td>7.4</td>\n",
       "      <td>0</td>\n",
       "      <td>1</td>\n",
       "    </tr>\n",
       "    <tr>\n",
       "      <th>3</th>\n",
       "      <td>A</td>\n",
       "      <td>Yangon</td>\n",
       "      <td>Member</td>\n",
       "      <td>Male</td>\n",
       "      <td>Health and beauty</td>\n",
       "      <td>58.22</td>\n",
       "      <td>8</td>\n",
       "      <td>23.2880</td>\n",
       "      <td>489.0480</td>\n",
       "      <td>Ewallet</td>\n",
       "      <td>465.76</td>\n",
       "      <td>23.2880</td>\n",
       "      <td>8.4</td>\n",
       "      <td>0</td>\n",
       "      <td>1</td>\n",
       "    </tr>\n",
       "    <tr>\n",
       "      <th>4</th>\n",
       "      <td>A</td>\n",
       "      <td>Yangon</td>\n",
       "      <td>Normal</td>\n",
       "      <td>Male</td>\n",
       "      <td>Sports and travel</td>\n",
       "      <td>86.31</td>\n",
       "      <td>7</td>\n",
       "      <td>30.2085</td>\n",
       "      <td>634.3785</td>\n",
       "      <td>Ewallet</td>\n",
       "      <td>604.17</td>\n",
       "      <td>30.2085</td>\n",
       "      <td>5.3</td>\n",
       "      <td>0</td>\n",
       "      <td>1</td>\n",
       "    </tr>\n",
       "  </tbody>\n",
       "</table>\n",
       "</div>"
      ],
      "text/plain": [
       "  Branch       City Customer type  Gender            Product line  Unit price  \\\n",
       "0      A     Yangon        Member  Female       Health and beauty       74.69   \n",
       "1      C  Naypyitaw        Normal  Female  Electronic accessories       15.28   \n",
       "2      A     Yangon        Normal    Male      Home and lifestyle       46.33   \n",
       "3      A     Yangon        Member    Male       Health and beauty       58.22   \n",
       "4      A     Yangon        Normal    Male       Sports and travel       86.31   \n",
       "\n",
       "   Quantity   Tax 5%     Total      Payment    cogs  gross income  Rating  \\\n",
       "0         7  26.1415  548.9715      Ewallet  522.83       26.1415     9.1   \n",
       "1         5   3.8200   80.2200         Cash   76.40        3.8200     9.6   \n",
       "2         7  16.2155  340.5255  Credit card  324.31       16.2155     7.4   \n",
       "3         8  23.2880  489.0480      Ewallet  465.76       23.2880     8.4   \n",
       "4         7  30.2085  634.3785      Ewallet  604.17       30.2085     5.3   \n",
       "\n",
       "   Female  Male  \n",
       "0       1     0  \n",
       "1       1     0  \n",
       "2       0     1  \n",
       "3       0     1  \n",
       "4       0     1  "
      ]
     },
     "execution_count": 21,
     "metadata": {},
     "output_type": "execute_result"
    }
   ],
   "source": [
    "df.head()"
   ]
  },
  {
   "cell_type": "code",
   "execution_count": 22,
   "id": "cda02163",
   "metadata": {
    "execution": {
     "iopub.execute_input": "2022-03-27T10:49:12.156608Z",
     "iopub.status.busy": "2022-03-27T10:49:12.155918Z",
     "iopub.status.idle": "2022-03-27T10:49:12.639813Z",
     "shell.execute_reply": "2022-03-27T10:49:12.639254Z",
     "shell.execute_reply.started": "2022-03-27T10:01:40.514095Z"
    },
    "papermill": {
     "duration": 0.530432,
     "end_time": "2022-03-27T10:49:12.639971",
     "exception": false,
     "start_time": "2022-03-27T10:49:12.109539",
     "status": "completed"
    },
    "tags": []
   },
   "outputs": [
    {
     "data": {
      "image/png": "[encoded data removed]",
      "text/plain": [
       "<Figure size 1440x1008 with 1 Axes>"
      ]
     },
     "metadata": {
      "needs_background": "light"
     },
     "output_type": "display_data"
    }
   ],
   "source": [
    "yData = [x for x in range(11)]\n",
    "plt.figure(figsize=(20,14))\n",
    "sns.barplot(y=df['Rating'],x=df['Product line'])\n",
    "_ = plt.yticks(yData)"
   ]
  },
  {
   "cell_type": "markdown",
   "id": "f3a5085b",
   "metadata": {
    "papermill": {
     "duration": 0.044342,
     "end_time": "2022-03-27T10:49:12.729182",
     "exception": false,
     "start_time": "2022-03-27T10:49:12.684840",
     "status": "completed"
    },
    "tags": []
   },
   "source": [
    "****"
   ]
  },
  {
   "cell_type": "markdown",
   "id": "11833295",
   "metadata": {
    "papermill": {
     "duration": 0.044355,
     "end_time": "2022-03-27T10:49:12.818030",
     "exception": false,
     "start_time": "2022-03-27T10:49:12.773675",
     "status": "completed"
    },
    "tags": []
   },
   "source": [
    "**Total bill in each prouct line**"
   ]
  },
  {
   "cell_type": "code",
   "execution_count": 23,
   "id": "4ba699fa",
   "metadata": {
    "execution": {
     "iopub.execute_input": "2022-03-27T10:49:12.916716Z",
     "iopub.status.busy": "2022-03-27T10:49:12.915792Z",
     "iopub.status.idle": "2022-03-27T10:49:13.388475Z",
     "shell.execute_reply": "2022-03-27T10:49:13.388966Z",
     "shell.execute_reply.started": "2022-03-27T10:13:02.160311Z"
    },
    "papermill": {
     "duration": 0.526445,
     "end_time": "2022-03-27T10:49:13.389134",
     "exception": false,
     "start_time": "2022-03-27T10:49:12.862689",
     "status": "completed"
    },
    "tags": []
   },
   "outputs": [
    {
     "data": {
      "text/plain": [
       "<AxesSubplot:xlabel='Product line', ylabel='Total'>"
      ]
     },
     "execution_count": 23,
     "metadata": {},
     "output_type": "execute_result"
    },
    {
     "data": {
      "image/png": "[encoded data removed]",
      "text/plain": [
       "<Figure size 1440x1008 with 1 Axes>"
      ]
     },
     "metadata": {
      "needs_background": "light"
     },
     "output_type": "display_data"
    }
   ],
   "source": [
    "\n",
    "plt.figure(figsize=(20,14))\n",
    "sns.barplot(y=df['Total'],x=df['Product line'])\n"
   ]
  },
  {
   "cell_type": "code",
   "execution_count": 24,
   "id": "d972438b",
   "metadata": {
    "execution": {
     "iopub.execute_input": "2022-03-27T10:49:13.485936Z",
     "iopub.status.busy": "2022-03-27T10:49:13.485261Z",
     "iopub.status.idle": "2022-03-27T10:49:13.487944Z",
     "shell.execute_reply": "2022-03-27T10:49:13.487425Z",
     "shell.execute_reply.started": "2022-03-27T10:28:04.946898Z"
    },
    "papermill": {
     "duration": 0.052863,
     "end_time": "2022-03-27T10:49:13.488091",
     "exception": false,
     "start_time": "2022-03-27T10:49:13.435228",
     "status": "completed"
    },
    "tags": []
   },
   "outputs": [],
   "source": [
    "\n",
    "#plt.figure(figsize=(20,14))\n",
    "#sns.histplot(df['Quantity'])\n",
    "#plt.xticks(np.arange(0,10,0.5))\n",
    "\n"
   ]
  },
  {
   "cell_type": "code",
   "execution_count": 25,
   "id": "ca0a2cf1",
   "metadata": {
    "execution": {
     "iopub.execute_input": "2022-03-27T10:49:13.608895Z",
     "iopub.status.busy": "2022-03-27T10:49:13.604401Z",
     "iopub.status.idle": "2022-03-27T10:49:13.880430Z",
     "shell.execute_reply": "2022-03-27T10:49:13.879783Z",
     "shell.execute_reply.started": "2022-03-27T10:33:33.035599Z"
    },
    "papermill": {
     "duration": 0.34499,
     "end_time": "2022-03-27T10:49:13.880569",
     "exception": false,
     "start_time": "2022-03-27T10:49:13.535579",
     "status": "completed"
    },
    "tags": []
   },
   "outputs": [
    {
     "data": {
      "text/plain": [
       "<AxesSubplot:ylabel='Quantity'>"
      ]
     },
     "execution_count": 25,
     "metadata": {},
     "output_type": "execute_result"
    },
    {
     "data": {
      "image/png": "[encoded data removed]",
      "text/plain": [
       "<Figure size 1440x1008 with 1 Axes>"
      ]
     },
     "metadata": {
      "needs_background": "light"
     },
     "output_type": "display_data"
    }
   ],
   "source": [
    "quantity_df = pd.DataFrame(df['Quantity'].value_counts())\n",
    "plt.figure(figsize=(20,14))\n",
    "sns.barplot(x=quantity_df.index,y=quantity_df['Quantity'])"
   ]
  },
  {
   "cell_type": "markdown",
   "id": "76ff6261",
   "metadata": {
    "papermill": {
     "duration": 0.047856,
     "end_time": "2022-03-27T10:49:13.975596",
     "exception": false,
     "start_time": "2022-03-27T10:49:13.927740",
     "status": "completed"
    },
    "tags": []
   },
   "source": [
    "**Infernce from the analysis**\n",
    "1. Total Customers = 1000\n",
    "2. Total Females = 501\n",
    "3. Total Males = 499\n",
    "4. Min Rating = 4\n",
    "5. Max Rating = 10\n",
    "6. Average Rating = 6.97\n",
    "7. Best Average Rating in food and & beverages\n",
    "8. Min Average Gross Income in Home & Lifestyle\n",
    "9. Min Average Gross Income in fashion accessiories\n",
    "10. maxium customer buy 10 quantities\n",
    "11. Max Average total bill in home & lifestyle\n",
    "12. Min Average total bill in fashion accessories\n",
    "13. maxium people pay through e-wallet\n",
    "14. maxium people come from yogan city"
   ]
  }
 ],
 "metadata": {
  "kernelspec": {
   "display_name": "Python 3",
   "language": "python",
   "name": "python3"
  },
  "language_info": {
   "codemirror_mode": {
    "name": "ipython",
    "version": 3
   },
   "file_extension": ".py",
   "mimetype": "text/x-python",
   "name": "python",
   "nbconvert_exporter": "python",
   "pygments_lexer": "ipython3",
   "version": "3.7.12"
  },
  "papermill": {
   "default_parameters": {},
   "duration": 18.198009,
   "end_time": "2022-03-27T10:49:14.734586",
   "environment_variables": {},
   "exception": null,
   "input_path": "__notebook__.ipynb",
   "output_path": "__notebook__.ipynb",
   "parameters": {},
   "start_time": "2022-03-27T10:48:56.536577",
   "version": "2.3.3"
  }
 },
 "nbformat": 4,
 "nbformat_minor": 5
}
